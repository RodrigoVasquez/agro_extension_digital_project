{
 "cells": [
  {
   "cell_type": "code",
   "execution_count": 1,
   "id": "067d66a1",
   "metadata": {},
   "outputs": [],
   "source": [
    "import vertexai\n",
    "from vertexai.preview import prompts\n",
    "from vertexai.preview.prompts import Prompt"
   ]
  },
  {
   "cell_type": "code",
   "execution_count": 2,
   "id": "072f2a82",
   "metadata": {},
   "outputs": [],
   "source": [
    "PROJECT_ID=\"agro-extension-digital-npe\""
   ]
  },
  {
   "cell_type": "code",
   "execution_count": 3,
   "id": "f525f252",
   "metadata": {},
   "outputs": [],
   "source": [
    "vertexai.init(project=PROJECT_ID, location=\"us-central1\")"
   ]
  },
  {
   "cell_type": "code",
   "execution_count": 4,
   "id": "d56e3d49",
   "metadata": {},
   "outputs": [
    {
     "name": "stdout",
     "output_type": "stream",
     "text": [
      "Created prompt resource with id 3780928567584489472 with version number 1\n"
     ]
    }
   ],
   "source": [
    "with open(\"../../agents/agent_pp_app/prompts/agent_pp/instruction.md\") as f:\n",
    "    agent_pp_instruction_prompt = f.read()\n",
    "\n",
    "local_prompt = Prompt(\n",
    "    prompt_name=\"agent_pp_instruction_prompt\",\n",
    "    prompt_data=\"{query}\",\n",
    "    model_name=\"gemini-2.5-flash-preview-05-20\",\n",
    "    system_instruction=agent_pp_instruction_prompt\n",
    ")\n",
    "prompt = prompts.create_version(prompt=local_prompt)"
   ]
  },
  {
   "cell_type": "code",
   "execution_count": 5,
   "id": "9a6add2a",
   "metadata": {},
   "outputs": [
    {
     "name": "stdout",
     "output_type": "stream",
     "text": [
      "Created prompt resource with id 7399570868176683008 with version number 1\n"
     ]
    }
   ],
   "source": [
    "with open(\"../../agents/agent_pp_app/prompts/agent_pp_bq/instruction.md\") as f:\n",
    "    agent_pp_bq_instruction_prompt = f.read()\n",
    "\n",
    "local_prompt = Prompt(\n",
    "    prompt_name=\"agent_pp_bq_instruction_prompt\",\n",
    "    model_name=\"gemini-2.0-flash-001\",\n",
    "    prompt_data=\"{query}\",\n",
    "    system_instruction=agent_pp_bq_instruction_prompt\n",
    ")\n",
    "prompt = prompts.create_version(prompt=local_prompt)"
   ]
  },
  {
   "cell_type": "code",
   "execution_count": 6,
   "id": "26134af3",
   "metadata": {},
   "outputs": [
    {
     "name": "stdout",
     "output_type": "stream",
     "text": [
      "Created prompt resource with id 8178693603711778816 with version number 1\n"
     ]
    }
   ],
   "source": [
    "with open(\"../../agents/agent_pp_app/prompts/agent_pp_rag/instruction.md\") as f:\n",
    "    agent_pp_rag_instruction_prompt = f.read()\n",
    "\n",
    "local_prompt = Prompt(\n",
    "    prompt_name=\"agent_pp_rag_instruction_prompt\",\n",
    "    model_name=\"gemini-2.0-flash-001\",\n",
    "    prompt_data=\"{query}\",\n",
    "    system_instruction=agent_pp_rag_instruction_prompt\n",
    ")\n",
    "prompt = prompts.create_version(prompt=local_prompt)"
   ]
  },
  {
   "cell_type": "code",
   "execution_count": 7,
   "id": "929d009a",
   "metadata": {},
   "outputs": [
    {
     "name": "stdout",
     "output_type": "stream",
     "text": [
      "Created prompt resource with id 4683478080407207936 with version number 1\n"
     ]
    }
   ],
   "source": [
    "with open(\"../../agents/agent_pp_app/prompts/agent_pp_bq/description.md\") as f:\n",
    "    agent_pp_bq_description_prompt = f.read()\n",
    "\n",
    "local_prompt = Prompt(\n",
    "    prompt_name=\"agent_pp_bq_description_prompt\",\n",
    "    model_name=\"gemini-2.0-flash-001\",\n",
    "    prompt_data=\"{query}\",\n",
    "    system_instruction=agent_pp_bq_description_prompt\n",
    ")\n",
    "prompt = prompts.create_version(prompt=local_prompt)"
   ]
  },
  {
   "cell_type": "code",
   "execution_count": 8,
   "id": "5491897e",
   "metadata": {},
   "outputs": [
    {
     "name": "stdout",
     "output_type": "stream",
     "text": [
      "Created prompt resource with id 5849206696454389760 with version number 1\n"
     ]
    }
   ],
   "source": [
    "with open(\"../../agents/agent_pp_app/prompts/agent_pp_rag/description.md\") as f:\n",
    "    agent_pp_rag_description_prompt = f.read()\n",
    "\n",
    "local_prompt = Prompt(\n",
    "    prompt_name=\"agent_pp_rag_description_prompt\",\n",
    "    model_name=\"gemini-2.0-flash-001\",\n",
    "    prompt_data=\"{query}\",\n",
    "    system_instruction=agent_pp_rag_description_prompt\n",
    ")\n",
    "prompt = prompts.create_version(prompt=local_prompt)"
   ]
  }
 ],
 "metadata": {
  "kernelspec": {
   "display_name": ".venv",
   "language": "python",
   "name": "python3"
  },
  "language_info": {
   "codemirror_mode": {
    "name": "ipython",
    "version": 3
   },
   "file_extension": ".py",
   "mimetype": "text/x-python",
   "name": "python",
   "nbconvert_exporter": "python",
   "pygments_lexer": "ipython3",
   "version": "3.12.11"
  }
 },
 "nbformat": 4,
 "nbformat_minor": 5
}
