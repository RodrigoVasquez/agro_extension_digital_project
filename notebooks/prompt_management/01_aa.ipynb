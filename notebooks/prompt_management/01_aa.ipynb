{
 "cells": [
  {
   "cell_type": "code",
   "execution_count": 1,
   "id": "067d66a1",
   "metadata": {},
   "outputs": [],
   "source": [
    "import vertexai\n",
    "from vertexai.preview import prompts\n",
    "from vertexai.preview.prompts import Prompt"
   ]
  },
  {
   "cell_type": "code",
   "execution_count": 2,
   "id": "072f2a82",
   "metadata": {},
   "outputs": [],
   "source": [
    "PROJECT_ID=\"agro-extension-digital-npe\""
   ]
  },
  {
   "cell_type": "code",
   "execution_count": 3,
   "id": "f525f252",
   "metadata": {},
   "outputs": [],
   "source": [
    "vertexai.init(project=PROJECT_ID, location=\"us-central1\")"
   ]
  },
  {
   "cell_type": "code",
   "execution_count": 20,
   "id": "d56e3d49",
   "metadata": {},
   "outputs": [
    {
     "name": "stdout",
     "output_type": "stream",
     "text": [
      "Created prompt resource with id 6086771576798183424 with version number 1\n"
     ]
    }
   ],
   "source": [
    "with open(\"../../agents/agent_aa_app/prompts/agent_aa/instruction.md\") as f:\n",
    "    agent_aa_instruction_prompt = f.read()\n",
    "\n",
    "local_prompt = Prompt(\n",
    "    prompt_name=\"agent_aa_instruction_prompt\",\n",
    "    prompt_data=\"{query}\",\n",
    "    model_name=\"gemini-2.5-flash-preview-05-20\",\n",
    "    system_instruction=agent_aa_instruction_prompt\n",
    ")\n",
    "prompt = prompts.create_version(prompt=local_prompt)"
   ]
  },
  {
   "cell_type": "code",
   "execution_count": null,
   "id": "9a6add2a",
   "metadata": {},
   "outputs": [
    {
     "name": "stdout",
     "output_type": "stream",
     "text": [
      "Created prompt resource with id 2098411894296543232 with version number 1\n"
     ]
    }
   ],
   "source": [
    "with open(\"../../agents/agent_aa_app/prompts/agent_aa_bq/instruction.md\") as f:\n",
    "    agent_aa_bq_instruction_prompt = f.read()\n",
    "\n",
    "local_prompt = Prompt(\n",
    "    prompt_name=\"agent_aa_bq_instruction_prompt\",\n",
    "    model_name=\"gemini-2.0-flash-001\",\n",
    "    prompt_data=\"{query}\",\n",
    "    system_instruction=agent_aa_bq_instruction_prompt\n",
    ")\n",
    "prompt = prompts.create_version(prompt=local_prompt)"
   ]
  },
  {
   "cell_type": "code",
   "execution_count": 17,
   "id": "26134af3",
   "metadata": {},
   "outputs": [
    {
     "name": "stdout",
     "output_type": "stream",
     "text": [
      "Created prompt resource with id 8066103613027516416 with version number 1\n"
     ]
    }
   ],
   "source": [
    "with open(\"../../agents/agent_aa_app/prompts/agent_aa_rag/instruction.md\") as f:\n",
    "    agent_aa_rag_instruction_prompt = f.read()\n",
    "\n",
    "local_prompt = Prompt(\n",
    "    prompt_name=\"agent_aa_rag_instruction_prompt\",\n",
    "    model_name=\"gemini-2.0-flash-001\",\n",
    "    prompt_data=\"{query}\",\n",
    "    system_instruction=agent_aa_rag_instruction_prompt\n",
    ")\n",
    "prompt = prompts.create_version(prompt=local_prompt)"
   ]
  },
  {
   "cell_type": "code",
   "execution_count": 18,
   "id": "929d009a",
   "metadata": {},
   "outputs": [
    {
     "name": "stdout",
     "output_type": "stream",
     "text": [
      "Created prompt resource with id 999955797683208192 with version number 1\n"
     ]
    }
   ],
   "source": [
    "with open(\"../../agents/agent_aa_app/prompts/agent_aa_bq/description.md\") as f:\n",
    "    agent_aa_bq_description_prompt = f.read()\n",
    "\n",
    "local_prompt = Prompt(\n",
    "    prompt_name=\"agent_aa_bq_description_prompt\",\n",
    "    model_name=\"gemini-2.0-flash-001\",\n",
    "    prompt_data=\"{query}\",\n",
    "    system_instruction=agent_aa_bq_description_prompt\n",
    ")\n",
    "prompt = prompts.create_version(prompt=local_prompt)"
   ]
  },
  {
   "cell_type": "code",
   "execution_count": 19,
   "id": "5491897e",
   "metadata": {},
   "outputs": [
    {
     "name": "stdout",
     "output_type": "stream",
     "text": [
      "Created prompt resource with id 3567007585284390912 with version number 1\n"
     ]
    }
   ],
   "source": [
    "with open(\"../../agents/agent_aa_app/prompts/agent_aa_rag/description.md\") as f:\n",
    "    agent_aa_rag_description_prompt = f.read()\n",
    "\n",
    "local_prompt = Prompt(\n",
    "    prompt_name=\"agent_aa_rag_description_prompt\",\n",
    "    model_name=\"gemini-2.0-flash-001\",\n",
    "    prompt_data=\"{query}\",\n",
    "    system_instruction=agent_aa_rag_description_prompt\n",
    ")\n",
    "prompt = prompts.create_version(prompt=local_prompt)"
   ]
  }
 ],
 "metadata": {
  "kernelspec": {
   "display_name": ".venv",
   "language": "python",
   "name": "python3"
  },
  "language_info": {
   "codemirror_mode": {
    "name": "ipython",
    "version": 3
   },
   "file_extension": ".py",
   "mimetype": "text/x-python",
   "name": "python",
   "nbconvert_exporter": "python",
   "pygments_lexer": "ipython3",
   "version": "3.12.11"
  }
 },
 "nbformat": 4,
 "nbformat_minor": 5
}
