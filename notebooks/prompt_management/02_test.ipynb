{
 "cells": [
  {
   "cell_type": "code",
   "execution_count": 1,
   "id": "93d04e06",
   "metadata": {},
   "outputs": [],
   "source": [
    "from vertexai.preview import prompts "
   ]
  },
  {
   "cell_type": "code",
   "execution_count": 3,
   "id": "f3f3c4de",
   "metadata": {},
   "outputs": [
    {
     "data": {
      "text/plain": [
       "[PromptMetadata(display_name='agent_aa_instruction_prompt', prompt_id='6086771576798183424'),\n",
       " PromptMetadata(display_name='agent_pp_rag_description_prompt', prompt_id='5849206696454389760'),\n",
       " PromptMetadata(display_name='agent_pp_bq_description_prompt', prompt_id='4683478080407207936'),\n",
       " PromptMetadata(display_name='agent_pp_rag_instruction_prompt', prompt_id='8178693603711778816'),\n",
       " PromptMetadata(display_name='agent_pp_bq_instruction_prompt', prompt_id='7399570868176683008'),\n",
       " PromptMetadata(display_name='agent_pp_instruction_prompt', prompt_id='3780928567584489472'),\n",
       " PromptMetadata(display_name='agent_aa_rag_description_prompt', prompt_id='3567007585284390912'),\n",
       " PromptMetadata(display_name='agent_aa_bq_description_prompt', prompt_id='999955797683208192'),\n",
       " PromptMetadata(display_name='agent_aa_rag_instruction_prompt', prompt_id='5872850594498084864'),\n",
       " PromptMetadata(display_name='agent_aa_bq_instruction_prompt', prompt_id='2098411894296543232')]"
      ]
     },
     "execution_count": 3,
     "metadata": {},
     "output_type": "execute_result"
    }
   ],
   "source": [
    "prompts.list()"
   ]
  },
  {
   "cell_type": "code",
   "execution_count": 6,
   "id": "8d950ef2",
   "metadata": {},
   "outputs": [
    {
     "data": {
      "text/plain": [
       "'## Instruction Prompt - Supervisor de Agentes (Formato WhatsApp)\\n\\n**Rol principal:** Coordinar a tus subagentes y entregar la respuesta final al usuario en un formato conversacional tipo WhatsApp.\\n\\n**Formato de respuesta** Debes formatear al formato de texto de whatapps, usa emoticones cuando lo necesites.\\n\\n**Reglas clave de comportamiento:**\\n\\n1. **Siempre debes usar una herramienta (`tool`) o subagente para generar las respuestas.**\\n\\n2. **Al iniciar una conversación, preséntate y ofrece ayuda:**\\n   Ejemplo:\\n   > ¡Hola! Soy el asistente virtual del Estándar de Sustentabilidad para la Industria de Ciruelas Deshidratadas.  \\n   > Estoy aquí para ayudarte a conocer más sobre el estándar y cómo implementarlo.  \\n   > ¿En qué puedo ayudarte hoy?\\n\\n3. **Al responder cualquier pregunta, finaliza la respuesta ofreciendo apoyo adicional:**\\n   Ejemplo:\\n   > ¿Te gustaría que te entregue recursos de capacitación o propuestas de medios de verificación para cumplir con esta acción?\\n\\n4. **Si no puedes responder una pregunta, proporciona un formulario para reportar errores:**\\n   Ejemplo:\\n   > Actualmente no tengo los conocimientos para responder esta pregunta.  \\n   > Ayúdame a mejorar, por favor completa el siguiente [Formulario](https://forms.gle/X5xpwGR312fPmHZbA) para informar de este inconveniente a los encargados del proyecto.\\n'"
      ]
     },
     "execution_count": 6,
     "metadata": {},
     "output_type": "execute_result"
    }
   ],
   "source": [
    "prompts.get(prompt_id='6086771576798183424').system_instruction"
   ]
  }
 ],
 "metadata": {
  "kernelspec": {
   "display_name": ".venv",
   "language": "python",
   "name": "python3"
  },
  "language_info": {
   "codemirror_mode": {
    "name": "ipython",
    "version": 3
   },
   "file_extension": ".py",
   "mimetype": "text/x-python",
   "name": "python",
   "nbconvert_exporter": "python",
   "pygments_lexer": "ipython3",
   "version": "3.12.11"
  }
 },
 "nbformat": 4,
 "nbformat_minor": 5
}
