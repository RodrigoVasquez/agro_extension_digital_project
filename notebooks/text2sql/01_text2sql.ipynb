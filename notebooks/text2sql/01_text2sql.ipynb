{
 "cells": [
  {
   "cell_type": "code",
   "execution_count": 46,
   "id": "66cd18ab",
   "metadata": {},
   "outputs": [],
   "source": [
    "import os\n",
    "import vertexai\n",
    "from dotenv import load_dotenv\n",
    "\n",
    "from sqlalchemy import (\n",
    "     create_engine,\n",
    "     MetaData,\n",
    "     Table,\n",
    "     Column,\n",
    "     String,\n",
    "     Integer,\n",
    "     select,\n",
    " )\n",
    "\n",
    "from llama_index.core.indices.struct_store.sql_query import (\n",
    "    SQLTableRetrieverQueryEngine\n",
    ")\n",
    "from llama_index.core.objects import (\n",
    "    SQLTableNodeMapping,\n",
    "    ObjectIndex,\n",
    "    SQLTableSchema,\n",
    ")\n",
    "from llama_index.core import VectorStoreIndex\n",
    "\n",
    "from llama_index.core import Settings\n",
    "from llama_index.core import SQLDatabase\n",
    "from llama_index.llms.google_genai import GoogleGenAI\n",
    "from langchain_google_vertexai import VertexAIEmbeddings\n",
    "from llama_index.embeddings.langchain import LangchainEmbedding"
   ]
  },
  {
   "cell_type": "code",
   "execution_count": 27,
   "id": "7983058c",
   "metadata": {},
   "outputs": [
    {
     "data": {
      "text/plain": [
       "True"
      ]
     },
     "execution_count": 27,
     "metadata": {},
     "output_type": "execute_result"
    }
   ],
   "source": [
    "load_dotenv(\"../../agents/.env\")"
   ]
  },
  {
   "cell_type": "code",
   "execution_count": 28,
   "id": "3a1f0cd6",
   "metadata": {},
   "outputs": [],
   "source": [
    "PROJECT_ID = os.getenv(\"GOOGLE_CLOUD_PROJECT\")\n",
    "DATASET_ID = \"sandbox_rsolar\""
   ]
  },
  {
   "cell_type": "code",
   "execution_count": 29,
   "id": "26a74d67",
   "metadata": {},
   "outputs": [],
   "source": [
    "vertexai.init(project=os.getenv(\"GOOGLE_CLOUD_PROJECT\"), location=os.getenv(\"GOOGLE_CLOUD_LOCATION\"))"
   ]
  },
  {
   "cell_type": "code",
   "execution_count": 30,
   "id": "98197e0a",
   "metadata": {},
   "outputs": [],
   "source": [
    "#initiate bigquery connection\n",
    "dataset_uri = f\"bigquery://{PROJECT_ID}/{DATASET_ID}\"\n",
    "bq_engine = create_engine(dataset_uri)\n",
    "\n",
    "#initiate database connection\n",
    "sql_database = SQLDatabase(bq_engine)"
   ]
  },
  {
   "cell_type": "code",
   "execution_count": 43,
   "id": "d863bcdf",
   "metadata": {},
   "outputs": [],
   "source": [
    "llm = GoogleGenAI(model=\"gemini-2.0-flash-001\",\n",
    "                  max_tokens=8192,\n",
    "                  temperature=0.1,  additional_kwargs={})\n",
    "\n",
    "embed_model = LangchainEmbedding(VertexAIEmbeddings(model_name='text-embedding-004'))\n",
    "\n",
    "Settings.llm = llm\n",
    "Settings.embed_model = embed_model"
   ]
  },
  {
   "cell_type": "code",
   "execution_count": 47,
   "id": "3f09e807",
   "metadata": {},
   "outputs": [],
   "source": [
    "# add contextual description in the schema object\n",
    "table_node_mapping = SQLTableNodeMapping(sql_database)\n",
    "table_schema_objs = [\n",
    "    (SQLTableSchema(table_name=\"estandar_aa\",\n",
    "                    context_str=\"La tabla estandar_aa constituye un detallado catálogo de estándares y buenas prácticas, diseñado para la evaluación y certificación en el sector agroindustrial. Cada entrada, identificada por un n numérico y un codigo alfanumérico único, se clasifica por su nivel de exigencia (como Fundamental o Avanzado) y se le asigna una puntos específica. Estos estándares se agrupan por dimension (Ambiente, Calidad, etc.) y tema (Agua, Biodiversidad), describiendo una buena_practica general, la accion concreta que la planta debe implementar, el medio_de_verificacion necesario para demostrar su cumplimiento, y un link_recursos para información adicional.\") )\n",
    "]"
   ]
  },
  {
   "cell_type": "code",
   "execution_count": 48,
   "id": "743fc291",
   "metadata": {},
   "outputs": [],
   "source": [
    "obj_index = ObjectIndex.from_objects(\n",
    "    table_schema_objs,\n",
    "    table_node_mapping,\n",
    "    VectorStoreIndex\n",
    ")"
   ]
  },
  {
   "cell_type": "code",
   "execution_count": 49,
   "id": "40127379",
   "metadata": {},
   "outputs": [],
   "source": [
    "bq_retriever = SQLTableRetrieverQueryEngine(\n",
    "     sql_database,\n",
    "     obj_index.as_retriever(similarity_top_k=2),\n",
    "     embed_model=embed_model,\n",
    "     llm=llm,\n",
    "     synthesize_response=True,\n",
    " )"
   ]
  },
  {
   "cell_type": "code",
   "execution_count": 55,
   "id": "ecf74c04",
   "metadata": {},
   "outputs": [
    {
     "data": {
      "text/markdown": [
       "Los enlaces asociados al tema agua son:\n",
       "\n",
       "*   https://ciruelacertificada.cl/?s=A002&jet\\_ajax\\_search\\_settings=%7B%22current\\_query%22%3A%7B%22taxonomy%22%3A%22estandares-recursos%22%2C%22term%22%3A%22recurso-adecuacion-agroindustrial%22%7D%2C%22sentence%22%3Atrue%2C%22search\\_in\\_taxonomy%22%3Atrue%2C%22search\\_in\\_taxonomy\\_source%22%3A%5B%22eleme...\n",
       "*   https://ciruelacertificada.cl/?s=A003&jet\\_ajax\\_search\\_settings=%7B%22current\\_query%22%3A%7B%22taxonomy%22%3A%22estandares-recursos%22%2C%22term%22%3A%22recurso-adecuacion-agroindustrial%22%7D%2C%22sentence%22%3Atrue%2C%22search\\_in\\_taxonomy%22%3Atrue%2C%22search\\_in\\_taxonomy\\_source%22%3A%5B%22eleme...\n",
       "*   https://ciruelacertificada.cl/?s=A004&jet\\_ajax\\_search\\_settings=%7B%22current\\_query%22%3A%7B%22taxonomy%22%3A%22estandares-recursos%22%2C%22term%22%3A%22recurso-adecuacion-agroindustrial%22%7D%2C%22sentence%22%3Atrue%2C%22search\\_in\\_taxonomy%22%3Atrue%2C%22search\\_in\\_taxonomy\\_source%22%3A%5B%22eleme...\n",
       "*   https://ciruelacertificada.cl/?s=A007&jet\\_ajax\\_search\\_settings=%7B%22current\\_query%22%3A%7B%22taxonomy%22%3A%22estandares-recursos%22%2C%22term%22%3A%22recurso-adecuacion-agroindustrial%22%7D%2C%22sentence%22%3Atrue%2C%22search\\_in\\_taxonomy%22%3Atrue%2C%22search\\_in\\_taxonomy\\_source%22%3A%5B%22eleme...\n",
       "*   https://ciruelacertificada.cl/?s=A008&jet\\_ajax\\_search\\_settings=%7B%22current\\_query%22%3A%7B%22taxonomy%22%3A%22estandares-recursos%22%2C%22term%22%3A%22recurso-adecuacion-agroindustrial%22%7D%2C%22sentence%22%3Atrue%2C%22search\\_in\\_taxonomy%22%3Atrue%2C%22search\\_in\\_taxonomy\\_source%22%3A%5B%22eleme...\n",
       "*   https://ciruelacertificada.cl/?s=A009&jet\\_ajax\\_search\\_settings=%7B%22current\\_query%22%3A%7B%22taxonomy%22%3A%22estandares-recursos%22%2C%22term%22%3A%22recurso-adecuacion-agroindustrial%22%7D%2C%22sentence%22%3Atrue%2C%22search\\_in\\_taxonomy%22%3Atrue%2C%22search\\_in\\_taxonomy\\_source%22%3A%5B%22eleme...\n",
       "*   https://ciruelacertificada.cl/?s=A014&jet\\_ajax\\_search\\_settings=%7B%22current\\_query%22%3A%7B%22taxonomy%22%3A%22estandares-recursos%22%2C%22term%22%3A%22recurso-adecuacion-agroindustrial%22%7D%2C%22sentence%22%3Atrue%2C%22search\\_in\\_taxonomy%22%3Atrue%2C%22search\\_in\\_taxonomy\\_source%22%3A%5B%22eleme...\n",
       "*   https://ciruelacertificada.cl/?s=A010&jet\\_ajax\\_search\\_settings=%7B%22current\\_query%22%3A%7B%22taxonomy%22%3A%22estandares-recursos%22%2C%22term%22%3A%22recurso-adecuacion-agroindustrial%22%7D%2C%22sentence%22%3Atrue%2C%22search\\_in\\_taxonomy%22%3Atrue%2C%22search\\_in\\_taxonomy\\_source%22%3A%5B%22eleme...\n",
       "*   https://ciruelacertificada.cl/?s=A011&jet\\_ajax\\_search\\_settings=%7B%22current\\_query%22%3A%7B%22taxonomy%22%3A%22estandares-recursos%22%2C%22term%22%3A%22recurso-adecuacion-agroindustrial%22%7D%2C%22sentence%22%3Atrue%2C%22search\\_in\\_taxonomy%22%3Atrue%2C%22search\\_in\\_taxonomy\\_source%22%3A%5B%22eleme...\n",
       "*   https://ciruelacertificada.cl/?s=A012&jet\\_ajax\\_search\\_settings=%7B%22current\\_query%22%3A%7B%22taxonomy%22%3A%22estandares-recursos%22%2C%22term%22%3A%22recurso-adecuacion-agroindustrial%22%7D%2C%22sentence%22%3Atrue%2C%22search\\_in\\_taxonomy%22%3Atrue%2C%22search\\_in\\_taxonomy\\_source%22%3A%5B%22eleme...\n",
       "*   https://ciruelacertificada.cl/?s=A015&jet\\_ajax\\_search\\_settings=%7B%22current\\_query%22%3A%7B%22taxonomy%22%3A%22estandares-recursos%22%2C%22term%22%3A%22recurso-adecuacion-agroindustrial%22%7D%2C%22sentence%22%3Atrue%2C%22search\\_in\\_taxonomy%22%3Atrue%2C%22search\\_in\\_taxonomy\\_source%22%3A%5B%22eleme...\n",
       "*   https://ciruelacertificada.cl/?s=A016&jet\\_ajax\\_search\\_settings=%7B%22current\\_query%22%3A%7B%22taxonomy%22%3A%22estandares-recursos%22%2C%22term%22%3A%22recurso-adecuacion-agroindustrial%22%7D%2C%22sentence%22%3Atrue%2C%22search\\_in\\_taxonomy%22%3Atrue%2C%22search\\_in\\_taxonomy\\_source%22%3A%5B%22eleme...\n",
       "*   https://ciruelacertificada.cl/?s=A005&jet\\_ajax\\_search\\_settings=%7B%22current\\_query%22%3A%7B%22taxonomy%22%3A%22estandares-recursos%22%2C%22term%22%3A%22recurso-adecuacion-agroindustrial%22%7D%2C%22sentence%22%3Atrue%2C%22search\\_in\\_taxonomy%22%3Atrue%2C%22search\\_in\\_taxonomy\\_source%22%3A%5B%22eleme...\n",
       "*   https://ciruelacertificada.cl/?s=A006&jet\\_ajax\\_search\\_settings=%7B%22current\\_query%22%3A%7B%22taxonomy%22%3A%22estandares-recursos%22%2C%22term%22%3A%22recurso-adecuacion-agroindustrial%22%7D%2C%22sentence%22%3Atrue%2C%22search\\_in\\_taxonomy%22%3Atrue%2C%22search\\_in\\_taxonomy\\_source%22%3A%5B%22eleme...\n",
       "*   https://ciruelacertificada.cl/?s=A013&jet\\_ajax\\_search\\_settings=%7B%22current\\_query%22%3A%7B%22taxonomy%22%3A%22estandares-recursos%22%2C%22term%22%3A%22recurso-adecuacion-agroindustrial%22%7D%2C%22sentence%22%3Atrue%2C%22search\\_in\\_taxonomy%22%3Atrue%2C%22search\\_in\\_taxonomy\\_source%22%3A%5B%22eleme...\n",
       "*   https://ciruelacertificada.cl/?s=A017&jet\\_ajax\\_search\\_settings=%7B%22current\\_query%22%3A%7B%22taxonomy%22%3A%22estandares-recursos%22%2C%22term%22%3A%22recurso-adecuacion-agroindustrial%22%7D%2C%22sentence%22%3Atrue%2C%22search\\_in\\_taxonomy%22%3Atrue%2C%22search\\_in\\_taxonomy\\_source%22%3A%5B%22eleme...\n",
       "*   https://ciruelacertificada.cl/?s=A001&jet\\_ajax\\_search\\_settings=%7B%22current\\_query%22%3A%7B%22taxonomy%22%3A%22estandares-recursos%22%2C%22term%22%3A%22recurso-adecuacion-agroindustrial%22%7D%2C%22sentence%22%3Atrue%2C%22search\\_in\\_taxonomy%22%3Atrue%2C%22search\\_in\\_taxonomy\\_source%22%3A%5B%22eleme...\n"
      ],
      "text/plain": [
       "<IPython.core.display.Markdown object>"
      ]
     },
     "metadata": {},
     "output_type": "display_data"
    }
   ],
   "source": [
    "query = \"Dame la lista de enlaces asociados a la tema agua\"\n",
    "response = bq_retriever.query(query)\n",
    "display(Markdown(f\"{response}\"))"
   ]
  },
  {
   "cell_type": "code",
   "execution_count": null,
   "id": "e883a2ea",
   "metadata": {},
   "outputs": [
    {
     "data": {
      "text/plain": [
       "\"SELECT\\n    estandar_aa.link_recursos\\nFROM\\n    estandar_aa\\nWHERE\\n    estandar_aa.tema = 'Agua'\""
      ]
     },
     "execution_count": 56,
     "metadata": {},
     "output_type": "execute_result"
    }
   ],
   "source": [
    "response.metadata['sql_query']"
   ]
  },
  {
   "cell_type": "code",
   "execution_count": null,
   "id": "fafaef81",
   "metadata": {},
   "outputs": [],
   "source": []
  }
 ],
 "metadata": {
  "kernelspec": {
   "display_name": "Python 3",
   "language": "python",
   "name": "python3"
  },
  "language_info": {
   "codemirror_mode": {
    "name": "ipython",
    "version": 3
   },
   "file_extension": ".py",
   "mimetype": "text/x-python",
   "name": "python",
   "nbconvert_exporter": "python",
   "pygments_lexer": "ipython3",
   "version": "3.12.9"
  }
 },
 "nbformat": 4,
 "nbformat_minor": 5
}
