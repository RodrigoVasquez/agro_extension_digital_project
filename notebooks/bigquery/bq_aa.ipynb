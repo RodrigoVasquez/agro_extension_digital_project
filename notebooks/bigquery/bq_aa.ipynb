{
 "cells": [
  {
   "cell_type": "code",
   "execution_count": 36,
   "id": "b29f7003",
   "metadata": {},
   "outputs": [],
   "source": [
    "import pandas_gbq\n",
    "import pandas as pd"
   ]
  },
  {
   "cell_type": "code",
   "execution_count": 37,
   "id": "b58478a0",
   "metadata": {},
   "outputs": [],
   "source": [
    "table_schema = [\n",
    "  {\n",
    "    \"name\": \"n\",\n",
    "    \"type\": \"INTEGER\",\n",
    "    \"mode\": \"REQUIRED\",\n",
    "    \"description\": \"Identificador numérico único para cada fila, correspondiente al número de la fila en la planilla Excel de origen. Actúa como clave primaria de la fuente.\"\n",
    "  },\n",
    "  {\n",
    "    \"name\": \"codigo\",\n",
    "    \"type\": \"STRING\",\n",
    "    \"mode\": \"NULLABLE\",\n",
    "    \"description\": \"Código alfanumérico único que identifica cada estándar o requisito específico de buena práctica. Ejemplo: 'A001'.\"\n",
    "  },\n",
    "  {\n",
    "    \"name\": \"nivel\",\n",
    "    \"type\": \"STRING\",\n",
    "    \"mode\": \"NULLABLE\",\n",
    "    \"description\": \"Nivel de criticidad o avance de la buena práctica. Valores posibles incluyen: Fundamental, Básico, Intermedio, Avanzado.\"\n",
    "  },\n",
    "  {\n",
    "    \"name\": \"puntos\",\n",
    "    \"type\": \"INTEGER\",\n",
    "    \"mode\": \"NULLABLE\",\n",
    "    \"description\": \"Puntaje asignado a la buena práctica o acción, posiblemente utilizado para evaluaciones de cumplimiento o certificación.\"\n",
    "  },\n",
    "  {\n",
    "    \"name\": \"dimension\",\n",
    "    \"type\": \"STRING\",\n",
    "    \"mode\": \"NULLABLE\",\n",
    "    \"description\": \"Categoría principal o pilar de sostenibilidad al que pertenece la buena práctica. Ejemplos: Ambiente, Calidad, Gestión, Social, Ética.\"\n",
    "  },\n",
    "  {\n",
    "    \"name\": \"tema\",\n",
    "    \"type\": \"STRING\",\n",
    "    \"mode\": \"NULLABLE\",\n",
    "    \"description\": \"Subcategoría o área temática específica dentro de una dimensión. Ejemplos: Agua (dentro de Ambiente), Gestión de la Calidad (dentro de Calidad).\"\n",
    "  },\n",
    "  {\n",
    "    \"name\": \"buena_practica\",\n",
    "    \"type\": \"STRING\",\n",
    "    \"mode\": \"NULLABLE\",\n",
    "    \"description\": \"Enunciado general o título de la buena práctica que se busca implementar o cumplir bajo un tema y dimensión específicos.\"\n",
    "  },\n",
    "  {\n",
    "    \"name\": \"accion\",\n",
    "    \"type\": \"STRING\",\n",
    "    \"mode\": \"NULLABLE\",\n",
    "    \"description\": \"Descripción detallada de la tarea, actividad o medida concreta que la planta debe ejecutar para cumplir con la buena práctica.\"\n",
    "  },\n",
    "  {\n",
    "    \"name\": \"medio_de_verificacion\",\n",
    "    \"type\": \"STRING\",\n",
    "    \"mode\": \"NULLABLE\",\n",
    "    \"description\": \"Criterios, documentos, registros o inspecciones requeridas para demostrar y auditar el cumplimiento de la acción específica. Detalla qué evidencia se debe presentar.\"\n",
    "  },\n",
    "  {\n",
    "    \"name\": \"link_recursos\",\n",
    "    \"type\": \"STRING\",\n",
    "    \"mode\": \"NULLABLE\",\n",
    "    \"description\": \"Enlace web (URL) que dirige a recursos adicionales, normativas, guías o material de apoyo relevante para la buena práctica o acción.\"\n",
    "  }\n",
    "]"
   ]
  },
  {
   "cell_type": "code",
   "execution_count": 38,
   "id": "1091685e",
   "metadata": {},
   "outputs": [],
   "source": [
    "df_estandar = pd.read_excel(\"data/estandar_aa.xlsx\")"
   ]
  },
  {
   "cell_type": "code",
   "execution_count": 39,
   "id": "6b7408f3",
   "metadata": {},
   "outputs": [
    {
     "name": "stdout",
     "output_type": "stream",
     "text": [
      "DataFrame cargado exitosamente en sandbox_rsolar.estandar_aa con el esquema especificado.\n"
     ]
    }
   ],
   "source": [
    "project_id = 'agro-extension-digital-npe'\n",
    "destination_table = 'sandbox_rsolar.estandar_aa'\n",
    "\n",
    "try:\n",
    "    pandas_gbq.to_gbq(\n",
    "        df_estandar,\n",
    "        destination_table,\n",
    "        project_id=project_id,\n",
    "        if_exists='replace',\n",
    "        table_schema=table_schema\n",
    "    )\n",
    "    print(f\"DataFrame cargado exitosamente en {destination_table} con el esquema especificado.\")\n",
    "\n",
    "except Exception as e:\n",
    "    print(f\"Ocurrió un error: {e}\")"
   ]
  },
  {
   "cell_type": "code",
   "execution_count": 13,
   "id": "8f59da08",
   "metadata": {},
   "outputs": [],
   "source": [
    "table_schema = [\n",
    "  {\n",
    "    \"name\": \"dimension\",\n",
    "    \"type\": \"STRING\",\n",
    "    \"mode\": \"NULLABLE\",\n",
    "    \"description\": \"Categoría principal o pilar temático al que se asocia el recurso. Define el área general de impacto o enfoque (ej. Ambiente, Calidad, Social, Ética, General, G. de la calidad).\"\n",
    "  },\n",
    "  {\n",
    "    \"name\": \"tema\",\n",
    "    \"type\": \"STRING\",\n",
    "    \"mode\": \"NULLABLE\",\n",
    "    \"description\": \"Subcategoría o tópico específico dentro de la 'dimensión'. Proporciona un nivel de detalle mayor sobre el contenido del recurso (ej. Agua, Biodiversidad, Inocuidad, Condiciones de trabajo, Debida diligencia).\"\n",
    "  },\n",
    "  {\n",
    "    \"name\": \"tipodetalle\",\n",
    "    \"type\": \"STRING\",\n",
    "    \"mode\": \"NULLABLE\",\n",
    "    \"description\": \"Clasificación del recurso según su formato o naturaleza. Indica qué tipo de material es (ej. Señalética, TDR - Términos de Referencia, Registro, Guía, Curso, Estándar).\"\n",
    "  },\n",
    "  {\n",
    "    \"name\": \"detalle\",\n",
    "    \"type\": \"STRING\",\n",
    "    \"mode\": \"NULLABLE\",\n",
    "    \"description\": \"Título o nombre descriptivo completo del recurso. Es la denominación legible por humanos que identifica de manera única el contenido específico (ej. 'Evite el desperdicio de agua', 'TDR para la contratación de empresa que realice plan de gestión del recurso hídrico', 'Guía para la gestión sustentable del agua (adaptación predio y planta)').\"\n",
    "  },\n",
    "  {\n",
    "    \"name\": \"codigo\",\n",
    "    \"type\": \"STRING\",\n",
    "    \"mode\": \"NULLABLE\",\n",
    "    \"description\": \"Identificador(es) alfanumérico(s) único(s) asignado(s) al recurso para su seguimiento y referencia interna, a menudo vinculados a normativas o puntos de control. Si existen múltiples códigos para un mismo recurso, se listan separados por comas y un espacio (ej. 'A007', 'A008, A009, A040, A059, A082').\"\n",
    "  },\n",
    "  {\n",
    "    \"name\": \"link_web\",\n",
    "    \"type\": \"STRING\",\n",
    "    \"mode\": \"NULLABLE\",\n",
    "    \"description\": \"URL principal que dirige a la página web o landing page del recurso, generalmente alojado en el dominio 'ciruelacertificada.cl'. Este enlace sirve como punto de acceso general al recurso.\"\n",
    "  },\n",
    "  {\n",
    "    \"name\": \"link_curso_chile_agricola\",\n",
    "    \"type\": \"STRING\",\n",
    "    \"mode\": \"NULLABLE\",\n",
    "    \"description\": \"URL específica que dirige al material del curso en la plataforma 'chileagricola.cl', aplicable cuando el recurso es o está directamente asociado a un curso ofrecido en dicha plataforma.\"\n",
    "  },\n",
    "  {\n",
    "    \"name\": \"link_pdf\",\n",
    "    \"type\": \"STRING\",\n",
    "    \"mode\": \"NULLABLE\",\n",
    "    \"description\": \"URL directa para acceder o descargar el recurso en formato PDF (Adobe Portable Document Format), si está disponible en esta presentación.\"\n",
    "  },\n",
    "  {\n",
    "    \"name\": \"link_word\",\n",
    "    \"type\": \"STRING\",\n",
    "    \"mode\": \"NULLABLE\",\n",
    "    \"description\": \"URL directa para acceder o descargar el recurso en formato Microsoft Word (.doc o .docx), si está disponible en este formato editable de procesamiento de texto.\"\n",
    "  },\n",
    "  {\n",
    "    \"name\": \"link_excel\",\n",
    "    \"type\": \"STRING\",\n",
    "    \"mode\": \"NULLABLE\",\n",
    "    \"description\": \"URL directa para acceder o descargar el recurso en formato Microsoft Excel (.xls o .xlsx), si está disponible en este formato de hoja de cálculo.\"\n",
    "  }\n",
    "]"
   ]
  },
  {
   "cell_type": "code",
   "execution_count": 14,
   "id": "a0a2ae09",
   "metadata": {},
   "outputs": [],
   "source": [
    "df_recursos = pd.read_excel(\"data/recursos_aa.xlsx\")"
   ]
  },
  {
   "cell_type": "code",
   "execution_count": 24,
   "id": "f525e998",
   "metadata": {},
   "outputs": [],
   "source": [
    "df_recursos['codigo_list'] = df_recursos['codigo'].str.split(r'\\s*,\\s*')"
   ]
  },
  {
   "cell_type": "code",
   "execution_count": 25,
   "id": "fd3550c3",
   "metadata": {},
   "outputs": [],
   "source": [
    "df_unnested = df_recursos.explode('codigo_list')"
   ]
  },
  {
   "cell_type": "code",
   "execution_count": 28,
   "id": "2a596811",
   "metadata": {},
   "outputs": [],
   "source": [
    "df_unnested = df_unnested.drop(columns=[\"codigo\"]).reset_index(drop=True)"
   ]
  },
  {
   "cell_type": "code",
   "execution_count": 30,
   "id": "66c31235",
   "metadata": {},
   "outputs": [],
   "source": [
    "df_unnested = df_unnested.rename(columns={'codigo_list': 'codigo'})\n",
    "df_unnested['codigo'] = df_unnested['codigo'].str.strip()"
   ]
  },
  {
   "cell_type": "code",
   "execution_count": null,
   "id": "ecd25c88",
   "metadata": {},
   "outputs": [
    {
     "name": "stdout",
     "output_type": "stream",
     "text": [
      "DataFrame cargado exitosamente en sandbox_rsolar.recursos_aa con el esquema especificado.\n"
     ]
    }
   ],
   "source": [
    "project_id = 'agro-extension-digital-npe'\n",
    "destination_table = 'sandbox_rsolar.recursos_aa'\n",
    "\n",
    "try:\n",
    "    pandas_gbq.to_gbq(\n",
    "        df_unnested,\n",
    "        destination_table,\n",
    "        project_id=project_id,\n",
    "        if_exists='replace',\n",
    "        table_schema=table_schema\n",
    "    )\n",
    "    print(f\"DataFrame cargado exitosamente en {destination_table} con el esquema especificado.\")\n",
    "\n",
    "except Exception as e:\n",
    "    print(f\"Ocurrió un error: {e}\")"
   ]
  },
  {
   "cell_type": "code",
   "execution_count": null,
   "id": "a5b413a0",
   "metadata": {},
   "outputs": [],
   "source": []
  }
 ],
 "metadata": {
  "kernelspec": {
   "display_name": "Python 3",
   "language": "python",
   "name": "python3"
  },
  "language_info": {
   "codemirror_mode": {
    "name": "ipython",
    "version": 3
   },
   "file_extension": ".py",
   "mimetype": "text/x-python",
   "name": "python",
   "nbconvert_exporter": "python",
   "pygments_lexer": "ipython3",
   "version": "3.10.12"
  }
 },
 "nbformat": 4,
 "nbformat_minor": 5
}
