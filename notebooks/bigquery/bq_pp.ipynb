{
 "cells": [
  {
   "cell_type": "code",
   "execution_count": 1,
   "id": "b29f7003",
   "metadata": {},
   "outputs": [],
   "source": [
    "import pandas_gbq\n",
    "import pandas as pd"
   ]
  },
  {
   "cell_type": "code",
   "execution_count": 2,
   "id": "b58478a0",
   "metadata": {},
   "outputs": [],
   "source": [
    "table_schema = [\n",
    "  {\n",
    "    \"name\": \"n\",\n",
    "    \"type\": \"INTEGER\",\n",
    "    \"mode\": \"NULLABLE\",\n",
    "    \"description\": \"Número de ítem o identificador secuencial.\"\n",
    "  },\n",
    "  {\n",
    "    \"name\": \"codigo\",\n",
    "    \"type\": \"STRING\",\n",
    "    \"mode\": \"NULLABLE\",\n",
    "    \"description\": \"Código alfanumérico único de la práctica.\"\n",
    "  },\n",
    "  {\n",
    "    \"name\": \"nivel\",\n",
    "    \"type\": \"STRING\",\n",
    "    \"mode\": \"NULLABLE\",\n",
    "    \"description\": \"Nivel de la práctica (Ej: Fundamental, Básico, Intermedio, Avanzado).\"\n",
    "  },\n",
    "  {\n",
    "    \"name\": \"puntos\",\n",
    "    \"type\": \"INTEGER\",\n",
    "    \"mode\": \"NULLABLE\",\n",
    "    \"description\": \"Puntuación asignada a la práctica.\"\n",
    "  },\n",
    "  {\n",
    "    \"name\": \"dimension\",\n",
    "    \"type\": \"STRING\",\n",
    "    \"mode\": \"NULLABLE\",\n",
    "    \"description\": \"Dimensión a la que pertenece la práctica (Ej: Ambiente, Calidad, Gestión, Social, Ética).\"\n",
    "  },\n",
    "  {\n",
    "    \"name\": \"tema\",\n",
    "    \"type\": \"STRING\",\n",
    "    \"mode\": \"NULLABLE\",\n",
    "    \"description\": \"Tema específico dentro de la dimensión (Ej: Agua, Suelo, Residuos).\"\n",
    "  },\n",
    "  {\n",
    "    \"name\": \"buena_practica\",\n",
    "    \"type\": \"STRING\",\n",
    "    \"mode\": \"NULLABLE\",\n",
    "    \"description\": \"Descripción de la buena práctica general.\"\n",
    "  },\n",
    "  {\n",
    "    \"name\": \"accion\",\n",
    "    \"type\": \"STRING\",\n",
    "    \"mode\": \"NULLABLE\",\n",
    "    \"description\": \"Acción específica que debe realizar el predio para cumplir con la buena práctica.\"\n",
    "  },\n",
    "  {\n",
    "    \"name\": \"medio_de_verificacion\",\n",
    "    \"type\": \"STRING\",\n",
    "    \"mode\": \"NULLABLE\",\n",
    "    \"description\": \"Descripción detallada de los medios o documentos necesarios para verificar el cumplimiento de la acción.\"\n",
    "  },\n",
    "  {\n",
    "    \"name\": \"link\",\n",
    "    \"type\": \"STRING\",\n",
    "    \"mode\": \"NULLABLE\",\n",
    "    \"description\": \"Enlace URL a más información o recursos relacionados con la práctica.\"\n",
    "  }\n",
    "]"
   ]
  },
  {
   "cell_type": "code",
   "execution_count": 3,
   "id": "1091685e",
   "metadata": {},
   "outputs": [],
   "source": [
    "df_estandar = pd.read_excel(\"data/estandar_pp.xlsx\")"
   ]
  },
  {
   "cell_type": "code",
   "execution_count": 4,
   "id": "6b7408f3",
   "metadata": {},
   "outputs": [
    {
     "name": "stdout",
     "output_type": "stream",
     "text": [
      "Please visit this URL to authorize this application: https://accounts.google.com/o/oauth2/auth?response_type=code&client_id=725825577420-unm2gnkiprugilg743tkbig250f4sfsj.apps.googleusercontent.com&redirect_uri=http%3A%2F%2Flocalhost%3A8080%2F&scope=https%3A%2F%2Fwww.googleapis.com%2Fauth%2Fbigquery&state=P8wzpopIfRittQeuLCffg8a2eAkEIj&prompt=consent&access_type=offline\n",
      "DataFrame cargado exitosamente en sandbox_rsolar.estandar_pp con el esquema especificado.\n"
     ]
    }
   ],
   "source": [
    "project_id = 'agro-extension-digital-npe'\n",
    "destination_table = 'sandbox_rsolar.estandar_pp'\n",
    "\n",
    "try:\n",
    "    pandas_gbq.to_gbq(\n",
    "        df_estandar,\n",
    "        destination_table,\n",
    "        project_id=project_id,\n",
    "        if_exists='replace',\n",
    "        table_schema=table_schema\n",
    "    )\n",
    "    print(f\"DataFrame cargado exitosamente en {destination_table} con el esquema especificado.\")\n",
    "\n",
    "except Exception as e:\n",
    "    print(f\"Ocurrió un error: {e}\")"
   ]
  },
  {
   "cell_type": "code",
   "execution_count": 6,
   "id": "8f59da08",
   "metadata": {},
   "outputs": [],
   "source": [
    "table_schema = [\n",
    "  {\n",
    "    \"name\": \"dimension\",\n",
    "    \"type\": \"STRING\",\n",
    "    \"mode\": \"NULLABLE\",\n",
    "    \"description\": \"Dimensión principal a la que pertenece el recurso (Ej: Ambiente, Calidad, Social).\"\n",
    "  },\n",
    "  {\n",
    "    \"name\": \"tema\",\n",
    "    \"type\": \"STRING\",\n",
    "    \"mode\": \"NULLABLE\",\n",
    "    \"description\": \"Tema específico dentro de la dimensión (Ej: Agua, Suelo, Biodiversidad).\"\n",
    "  },\n",
    "  {\n",
    "    \"name\": \"tipodetalle\",\n",
    "    \"type\": \"STRING\",\n",
    "    \"mode\": \"NULLABLE\",\n",
    "    \"description\": \"Tipo de recurso o detalle (Ej: Señalética, TDR, Registro, Guía, Curso).\"\n",
    "  },\n",
    "  {\n",
    "    \"name\": \"detalle\",\n",
    "    \"type\": \"STRING\",\n",
    "    \"mode\": \"NULLABLE\",\n",
    "    \"description\": \"Descripción detallada o título del recurso.\"\n",
    "  },\n",
    "  {\n",
    "    \"name\": \"codigo\",\n",
    "    \"type\": \"STRING\",\n",
    "    \"mode\": \"NULLABLE\",\n",
    "    \"description\": \"Código(s) asociado(s) al recurso, puede ser una lista separada por comas.\"\n",
    "  },\n",
    "  {\n",
    "    \"name\": \"link_web\",\n",
    "    \"type\": \"STRING\",\n",
    "    \"mode\": \"NULLABLE\",\n",
    "    \"description\": \"Enlace web principal al recurso en ciruelacertificada.cl.\"\n",
    "  },\n",
    "  {\n",
    "    \"name\": \"link_curso_chile_agricola\",\n",
    "    \"type\": \"STRING\",\n",
    "    \"mode\": \"NULLABLE\",\n",
    "    \"description\": \"Enlace al curso correspondiente en chileagricola.cl (si aplica).\"\n",
    "  },\n",
    "  {\n",
    "    \"name\": \"link_pdf\",\n",
    "    \"type\": \"STRING\",\n",
    "    \"mode\": \"NULLABLE\",\n",
    "    \"description\": \"Enlace directo al archivo PDF del recurso (si aplica).\"\n",
    "  },\n",
    "  {\n",
    "    \"name\": \"link_word\",\n",
    "    \"type\": \"STRING\",\n",
    "    \"mode\": \"NULLABLE\",\n",
    "    \"description\": \"Enlace directo al archivo Word (.docx) del recurso (si aplica).\"\n",
    "  },\n",
    "  {\n",
    "    \"name\": \"link_excel\",\n",
    "    \"type\": \"STRING\",\n",
    "    \"mode\": \"NULLABLE\",\n",
    "    \"description\": \"Enlace directo al archivo Excel (.xlsx) del recurso (si aplica).\"\n",
    "  }\n",
    "]"
   ]
  },
  {
   "cell_type": "code",
   "execution_count": 7,
   "id": "a0a2ae09",
   "metadata": {},
   "outputs": [],
   "source": [
    "df_recursos = pd.read_excel(\"data/recursos_pp.xlsx\")"
   ]
  },
  {
   "cell_type": "code",
   "execution_count": 8,
   "id": "f525e998",
   "metadata": {},
   "outputs": [],
   "source": [
    "df_recursos['codigo_list'] = df_recursos['codigo'].str.split(r'\\s*,\\s*')"
   ]
  },
  {
   "cell_type": "code",
   "execution_count": 9,
   "id": "fd3550c3",
   "metadata": {},
   "outputs": [],
   "source": [
    "df_unnested = df_recursos.explode('codigo_list')"
   ]
  },
  {
   "cell_type": "code",
   "execution_count": 10,
   "id": "2a596811",
   "metadata": {},
   "outputs": [],
   "source": [
    "df_unnested = df_unnested.drop(columns=[\"codigo\"]).reset_index(drop=True)"
   ]
  },
  {
   "cell_type": "code",
   "execution_count": 11,
   "id": "66c31235",
   "metadata": {},
   "outputs": [],
   "source": [
    "df_unnested = df_unnested.rename(columns={'codigo_list': 'codigo'})\n",
    "df_unnested['codigo'] = df_unnested['codigo'].str.strip()"
   ]
  },
  {
   "cell_type": "code",
   "execution_count": 12,
   "id": "ecd25c88",
   "metadata": {},
   "outputs": [
    {
     "name": "stdout",
     "output_type": "stream",
     "text": [
      "DataFrame cargado exitosamente en sandbox_rsolar.recursos_pp con el esquema especificado.\n"
     ]
    }
   ],
   "source": [
    "project_id = 'agro-extension-digital-npe'\n",
    "destination_table = 'sandbox_rsolar.recursos_pp'\n",
    "\n",
    "try:\n",
    "    pandas_gbq.to_gbq(\n",
    "        df_unnested,\n",
    "        destination_table,\n",
    "        project_id=project_id,\n",
    "        if_exists='replace',\n",
    "        table_schema=table_schema\n",
    "    )\n",
    "    print(f\"DataFrame cargado exitosamente en {destination_table} con el esquema especificado.\")\n",
    "\n",
    "except Exception as e:\n",
    "    print(f\"Ocurrió un error: {e}\")"
   ]
  },
  {
   "cell_type": "code",
   "execution_count": null,
   "id": "a5b413a0",
   "metadata": {},
   "outputs": [],
   "source": []
  }
 ],
 "metadata": {
  "kernelspec": {
   "display_name": ".venv",
   "language": "python",
   "name": "python3"
  },
  "language_info": {
   "codemirror_mode": {
    "name": "ipython",
    "version": 3
   },
   "file_extension": ".py",
   "mimetype": "text/x-python",
   "name": "python",
   "nbconvert_exporter": "python",
   "pygments_lexer": "ipython3",
   "version": "3.12.10"
  }
 },
 "nbformat": 4,
 "nbformat_minor": 5
}
