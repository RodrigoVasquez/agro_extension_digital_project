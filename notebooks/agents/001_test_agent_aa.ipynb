{
 "cells": [
  {
   "cell_type": "code",
   "execution_count": null,
   "metadata": {},
   "outputs": [],
   "source": [
    "import requests\n",
    "import json\n",
    "APP_URL = \"https://agent-aa-890639421110.us-central1.run.app\"\n",
    "\n",
    "def create_session(user: str, session_id: str):\n",
    "    token = \"your_token_here\"\n",
    "    session_url = f\"{APP_URL}/apps/agent/users/{user}/sessions/{session_id}\"\n",
    "\n",
    "    # Encabezados\n",
    "    headers = {\n",
    "   #     \"Authorization\": f\"Bearer {token}\",\n",
    "        \"Content-Type\": \"application/json\"\n",
    "    }\n",
    "\n",
    "    # Cuerpo de la solicitud\n",
    "    payload = {\n",
    "        \"state\": {\n",
    "            \"preferred_language\": \"Spanish\",\n",
    "            \"visit_count\": 5\n",
    "        }\n",
    "    }\n",
    "\n",
    "    # Realizar la solicitud POST\n",
    "    response = requests.post(session_url, headers=headers, json=payload)\n",
    "\n",
    "\n",
    "def send_message(user: str, session_id: str, message: str):\n",
    "    token = \"your_token_here\"\n",
    "    session_url = f\"{APP_URL}/run_sse\"\n",
    "\n",
    "    # Encabezados\n",
    "    headers = {\n",
    "   #     \"Authorization\": f\"Bearer {token}\",\n",
    "        \"Content-Type\": \"application/json\"\n",
    "    }\n",
    "\n",
    "    # Cuerpo de la solicitud\n",
    "    payload = {\n",
    "        \"app_name\": \"agent\",\n",
    "        \"user_id\": user,\n",
    "        \"session_id\": session_id,\n",
    "        \"new_message\": {\n",
    "            \"role\": \"user\",\n",
    "            \"parts\": [{\n",
    "            \"text\": message\n",
    "             }]\n",
    "        },\n",
    "        \"streaming\": False,\n",
    "     }\n",
    "\n",
    "    # Realizar la solicitud POST\n",
    "    response = requests.post(session_url, headers=headers, json=payload)\n",
    "\n",
    "    if response.text.startswith('data: '):\n",
    "        json_data = response.text[6:]  # Quitar 'data: '\n",
    "\n",
    "# Convertir la cadena JSON a un diccionario de Python\n",
    "    parsed_data = json.loads(json_data)\n",
    "    return parsed_data['content']['parts'][0]['text']"
   ]
  },
  {
   "cell_type": "code",
   "execution_count": 2,
   "metadata": {},
   "outputs": [],
   "source": [
    "create_session(\"user_1\", \"session_1\")"
   ]
  },
  {
   "cell_type": "code",
   "execution_count": 20,
   "metadata": {},
   "outputs": [],
   "source": [
    "x=send_message(\"user_1\", \"session_1\",\"Hola, ¿cómo estás?\")"
   ]
  },
  {
   "cell_type": "code",
   "execution_count": 21,
   "metadata": {},
   "outputs": [
    {
     "data": {
      "text/plain": [
       "{'content': {'parts': [{'text': '¡Hola! Estoy bien, gracias por preguntar. ¿Qué te trae por aquí? ¿Hay algo en lo que te pueda ayudar con respecto a la adecuación agroindustrial, especialmente en la industria de ciruelas deshidratadas?\\n'}],\n",
       "  'role': 'model'},\n",
       " 'grounding_metadata': {},\n",
       " 'invocation_id': 'e-1937cc4d-6e4a-4d5d-b5cc-c60537d4b84f',\n",
       " 'author': 'adecuacion_agroindustrial_agent',\n",
       " 'actions': {'state_delta': {},\n",
       "  'artifact_delta': {},\n",
       "  'requested_auth_configs': {}},\n",
       " 'id': 'gox3Fsg7',\n",
       " 'timestamp': 1745458971.639181}"
      ]
     },
     "execution_count": 21,
     "metadata": {},
     "output_type": "execute_result"
    }
   ],
   "source": [
    "x"
   ]
  },
  {
   "cell_type": "code",
   "execution_count": null,
   "metadata": {},
   "outputs": [],
   "source": []
  }
 ],
 "metadata": {
  "kernelspec": {
   "display_name": "Python 3",
   "language": "python",
   "name": "python3"
  },
  "language_info": {
   "codemirror_mode": {
    "name": "ipython",
    "version": 3
   },
   "file_extension": ".py",
   "mimetype": "text/x-python",
   "name": "python",
   "nbconvert_exporter": "python",
   "pygments_lexer": "ipython3",
   "version": "3.12.7"
  }
 },
 "nbformat": 4,
 "nbformat_minor": 2
}
